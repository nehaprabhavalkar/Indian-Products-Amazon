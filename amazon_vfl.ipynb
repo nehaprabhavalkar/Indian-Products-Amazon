{
 "cells": [
  {
   "cell_type": "code",
   "execution_count": 1,
   "metadata": {},
   "outputs": [],
   "source": [
    "import requests\n",
    "from bs4 import BeautifulSoup\n",
    "import pandas as pd\n",
    "import numpy as np\n",
    "import re\n",
    "import datetime\n",
    "import warnings\n",
    "warnings.filterwarnings('ignore')"
   ]
  },
  {
   "cell_type": "code",
   "execution_count": 10,
   "metadata": {},
   "outputs": [],
   "source": [
    "headers = { 'User-Agent': 'Mozilla/5.0 (Windows NT 6.1; Win64; x64) AppleWebKit/537.36 (KHTML, like Gecko) Chrome/85.0.4183.121 Safari/537.36' } \n",
    "\n",
    "header = {\"User-Agent\":\"Mozilla/5.0 (Windows NT 10.0; Win64;     x64; rv:66.0) Gecko/20100101 Firefox/66.0\", \"Accept-Encoding\":\"gzip, deflate\",     \"Accept\":\"text/html,application/xhtml+xml,application/xml;q=0.9,*/*;q=0.8\", \"DNT\":\"1\",\"Connection\":\"close\", \"Upgrade-Insecure-Requests\":\"1\"}"
   ]
  },
  {
   "cell_type": "code",
   "execution_count": 18,
   "metadata": {},
   "outputs": [],
   "source": [
    "ind_list = ['mamaearth','godrej','titan watch','frooti','amul',\n",
    "           'patanjai','dettol','cinthol','britannia biscuits','streax',\n",
    "           'himalaya products','society tea','tata tea','fastrack watches','mysore sandal']"
   ]
  },
  {
   "cell_type": "code",
   "execution_count": 19,
   "metadata": {},
   "outputs": [],
   "source": [
    "pasin = []\n",
    "reviews=[]\n",
    "dates = []\n",
    "stars = []\n",
    "name = []\n",
    "helpful = []"
   ]
  },
  {
   "cell_type": "code",
   "execution_count": 20,
   "metadata": {},
   "outputs": [],
   "source": [
    "for prod in ind_list:\n",
    "    req = requests.get('https://www.amazon.in/s?k='+prod,headers=headers)\n",
    "    soup = BeautifulSoup(req.content)\n",
    "    \n",
    "    asin = []\n",
    "\n",
    "    for i in soup.findAll('div', attrs={'class':['sg-col-4-of-24 sg-col-4-of-12 sg-col-4-of-36 s-result-item s-asin sg-col-4-of-28 sg-col-4-of-16 sg-col sg-col-4-of-20 sg-col-4-of-32']}):\n",
    "        asin.append(i['data-asin'])\n",
    "    \n",
    "    asin = asin[1:11]\n",
    "    \n",
    "    link=[]\n",
    "    \n",
    "    for i in range(0,len(asin)):\n",
    "        url='https://www.amazon.in/dp/'+asin[i]\n",
    "        page=requests.get(url,headers=headers)\n",
    "        soup=BeautifulSoup(page.content)\n",
    "    \n",
    "        for i in soup.findAll('a',{'class':['a-link-emphasis a-text-bold']}):\n",
    "            link.append(i['href'])\n",
    "    \n",
    "    link = link[1:11]\n",
    "    \n",
    "\n",
    "# each page has 10\n",
    "    for i in range(0,len(link)):\n",
    "    \n",
    "        for j in range(0,2):\n",
    "        \n",
    "            url='https://www.amazon.in'+link[i]+'&pageNumber='+str(j)\n",
    "            rev_page=requests.get(url,headers=headers)\n",
    "        \n",
    "            soup=BeautifulSoup(rev_page.content)\n",
    "        \n",
    "            for k in soup.findAll('span',{'data-hook':'review-body'}):\n",
    "                reviews.append(k.text.strip())\n",
    "            \n",
    "            for k in soup.findAll('i',{'data-hook':'review-star-rating'}):\n",
    "                stars.append(k.text.split(' ')[0].split('.')[0])\n",
    "        \n",
    "            for k in soup.findAll('span',{'data-hook':'review-date'}):\n",
    "                dates.append(k.text)\n",
    "                name.append(link[i].split('/')[1])\n",
    "                pasin.append(asin[i])\n",
    "                \n",
    "            \n",
    "    "
   ]
  },
  {
   "cell_type": "code",
   "execution_count": 21,
   "metadata": {},
   "outputs": [
    {
     "data": {
      "text/plain": [
       "(2782, 2782, 2782, 2782, 2782)"
      ]
     },
     "execution_count": 21,
     "metadata": {},
     "output_type": "execute_result"
    }
   ],
   "source": [
    "len(pasin) , len(dates) , len(reviews) , len(stars) , len(name) "
   ]
  },
  {
   "cell_type": "code",
   "execution_count": 22,
   "metadata": {},
   "outputs": [],
   "source": [
    "rev_dict = {'asin':pasin,'name':name,'date':dates,'rating':stars,'review':reviews}"
   ]
  },
  {
   "cell_type": "code",
   "execution_count": 23,
   "metadata": {},
   "outputs": [
    {
     "data": {
      "text/html": [
       "<div>\n",
       "<style scoped>\n",
       "    .dataframe tbody tr th:only-of-type {\n",
       "        vertical-align: middle;\n",
       "    }\n",
       "\n",
       "    .dataframe tbody tr th {\n",
       "        vertical-align: top;\n",
       "    }\n",
       "\n",
       "    .dataframe thead th {\n",
       "        text-align: right;\n",
       "    }\n",
       "</style>\n",
       "<table border=\"1\" class=\"dataframe\">\n",
       "  <thead>\n",
       "    <tr style=\"text-align: right;\">\n",
       "      <th></th>\n",
       "      <th>asin</th>\n",
       "      <th>name</th>\n",
       "      <th>date</th>\n",
       "      <th>rating</th>\n",
       "      <th>review</th>\n",
       "    </tr>\n",
       "  </thead>\n",
       "  <tbody>\n",
       "    <tr>\n",
       "      <th>0</th>\n",
       "      <td>B07W7CTLD1</td>\n",
       "      <td>Mamaearth-Onion-Growth-Control-Redensyl</td>\n",
       "      <td>Reviewed in India on 6 September 2019</td>\n",
       "      <td>1</td>\n",
       "      <td>I bought this hair oil after viewing so many g...</td>\n",
       "    </tr>\n",
       "    <tr>\n",
       "      <th>1</th>\n",
       "      <td>B07W7CTLD1</td>\n",
       "      <td>Mamaearth-Onion-Growth-Control-Redensyl</td>\n",
       "      <td>Reviewed in India on 14 August 2019</td>\n",
       "      <td>5</td>\n",
       "      <td>Used This Mama Earth Newly Launched Onion Oil ...</td>\n",
       "    </tr>\n",
       "    <tr>\n",
       "      <th>2</th>\n",
       "      <td>B07W7CTLD1</td>\n",
       "      <td>Mamaearth-Onion-Growth-Control-Redensyl</td>\n",
       "      <td>Reviewed in India on 19 October 2019</td>\n",
       "      <td>1</td>\n",
       "      <td>So bad product...My hair falling increase too ...</td>\n",
       "    </tr>\n",
       "    <tr>\n",
       "      <th>3</th>\n",
       "      <td>B07W7CTLD1</td>\n",
       "      <td>Mamaearth-Onion-Growth-Control-Redensyl</td>\n",
       "      <td>Reviewed in India on 16 September 2019</td>\n",
       "      <td>1</td>\n",
       "      <td>Product just smells similar to navarathna hair...</td>\n",
       "    </tr>\n",
       "    <tr>\n",
       "      <th>4</th>\n",
       "      <td>B07W7CTLD1</td>\n",
       "      <td>Mamaearth-Onion-Growth-Control-Redensyl</td>\n",
       "      <td>Reviewed in India on 18 August 2019</td>\n",
       "      <td>5</td>\n",
       "      <td>I have been trying different onion oil for my ...</td>\n",
       "    </tr>\n",
       "  </tbody>\n",
       "</table>\n",
       "</div>"
      ],
      "text/plain": [
       "         asin                                     name  \\\n",
       "0  B07W7CTLD1  Mamaearth-Onion-Growth-Control-Redensyl   \n",
       "1  B07W7CTLD1  Mamaearth-Onion-Growth-Control-Redensyl   \n",
       "2  B07W7CTLD1  Mamaearth-Onion-Growth-Control-Redensyl   \n",
       "3  B07W7CTLD1  Mamaearth-Onion-Growth-Control-Redensyl   \n",
       "4  B07W7CTLD1  Mamaearth-Onion-Growth-Control-Redensyl   \n",
       "\n",
       "                                     date rating  \\\n",
       "0   Reviewed in India on 6 September 2019      1   \n",
       "1     Reviewed in India on 14 August 2019      5   \n",
       "2    Reviewed in India on 19 October 2019      1   \n",
       "3  Reviewed in India on 16 September 2019      1   \n",
       "4     Reviewed in India on 18 August 2019      5   \n",
       "\n",
       "                                              review  \n",
       "0  I bought this hair oil after viewing so many g...  \n",
       "1  Used This Mama Earth Newly Launched Onion Oil ...  \n",
       "2  So bad product...My hair falling increase too ...  \n",
       "3  Product just smells similar to navarathna hair...  \n",
       "4  I have been trying different onion oil for my ...  "
      ]
     },
     "execution_count": 23,
     "metadata": {},
     "output_type": "execute_result"
    }
   ],
   "source": [
    "reviews=pd.DataFrame(data=rev_dict,columns=['asin','name','date','rating','review']) \n",
    "reviews.head()"
   ]
  },
  {
   "cell_type": "code",
   "execution_count": 24,
   "metadata": {},
   "outputs": [],
   "source": [
    "reviews.rating = reviews.rating.astype('int')"
   ]
  },
  {
   "cell_type": "code",
   "execution_count": 25,
   "metadata": {},
   "outputs": [],
   "source": [
    "for i in range(0,len(reviews)):\n",
    "    reviews.date[i] = re.sub('Reviewed in India on','',reviews.date[i])\n",
    "    reviews.date[i]= reviews.date[i].strip()\n",
    "    reviews.date[i] = datetime.datetime.strptime(reviews.date[i],'%d %B %Y').date()"
   ]
  },
  {
   "cell_type": "code",
   "execution_count": 28,
   "metadata": {},
   "outputs": [],
   "source": [
    "reviews.to_csv('amazon_vfl_reviews.csv',index=False)"
   ]
  }
 ],
 "metadata": {
  "kernelspec": {
   "display_name": "Python 3",
   "language": "python",
   "name": "python3"
  },
  "language_info": {
   "codemirror_mode": {
    "name": "ipython",
    "version": 3
   },
   "file_extension": ".py",
   "mimetype": "text/x-python",
   "name": "python",
   "nbconvert_exporter": "python",
   "pygments_lexer": "ipython3",
   "version": "3.7.6"
  }
 },
 "nbformat": 4,
 "nbformat_minor": 4
}
